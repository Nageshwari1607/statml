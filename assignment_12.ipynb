{
  "nbformat": 4,
  "nbformat_minor": 0,
  "metadata": {
    "colab": {
      "provenance": [],
      "authorship_tag": "ABX9TyMZqE/3ERzHgIfswiRw+HZj",
      "include_colab_link": true
    },
    "kernelspec": {
      "name": "python3",
      "display_name": "Python 3"
    },
    "language_info": {
      "name": "python"
    }
  },
  "cells": [
    {
      "cell_type": "markdown",
      "metadata": {
        "id": "view-in-github",
        "colab_type": "text"
      },
      "source": [
        "<a href=\"https://colab.research.google.com/github/Nageshwari1607/statml/blob/main/assignment_12.ipynb\" target=\"_parent\"><img src=\"https://colab.research.google.com/assets/colab-badge.svg\" alt=\"Open In Colab\"/></a>"
      ]
    },
    {
      "cell_type": "code",
      "execution_count": 1,
      "metadata": {
        "colab": {
          "base_uri": "https://localhost:8080/",
          "height": 106
        },
        "id": "xAe8V1s3xD6-",
        "outputId": "83bc1d21-4406-4c16-8a64-56cd02b77f66"
      },
      "outputs": [
        {
          "output_type": "error",
          "ename": "IndentationError",
          "evalue": "unexpected indent (<ipython-input-1-256556e96bb5>, line 42)",
          "traceback": [
            "\u001b[0;36m  File \u001b[0;32m\"<ipython-input-1-256556e96bb5>\"\u001b[0;36m, line \u001b[0;32m42\u001b[0m\n\u001b[0;31m    accuracies = {}\u001b[0m\n\u001b[0m    ^\u001b[0m\n\u001b[0;31mIndentationError\u001b[0m\u001b[0;31m:\u001b[0m unexpected indent\n"
          ]
        }
      ],
      "source": [
        "import pandas as pd\n",
        "import numpy as np\n",
        "from sklearn.model_selection import train_test_split\n",
        "from sklearn.svm import SVC\n",
        "from sklearn.neighbors import KNeighborsClassifier\n",
        "from sklearn.linear_model import LogisticRegression\n",
        "from sklearn.metrics import accuracy_score\n",
        "import seaborn as sns\n",
        "import matplotlib.pyplot as plt\n",
        "\n",
        "# 1. Load the Dataset\n",
        "# Replace 'breast_cancer.csv' with the correct dataset file path\n",
        "data = pd.read_csv('breast_cancer_survival.csv')\n",
        "\n",
        "# 2. Identify Features and Target Variable\n",
        "# Check the dataset structure\n",
        "print(data.info())\n",
        "print(data.head())\n",
        "\n",
        "# Assuming 'diagnosis' is the target column (adjust based on actual column names)\n",
        "target = 'diagnosis'\n",
        "features = data.drop(columns=[target]).columns\n",
        "\n",
        "X = data[features]\n",
        "y = data[target]\n",
        "\n",
        "# Convert target to numerical if it contains categorical labels (e.g., malignant/benign)\n",
        "if y.dtypes == 'object':\n",
        "    y = y.map({'M': 1, 'B': 0})  # Update based on the dataset's encoding\n",
        "\n",
        "    # 3. Train-Test Split\n",
        "    X_train, X_test, y_train, y_test = train_test_split(X, y, test_size=0.2, random_state=42)\n",
        "\n",
        "    # Define models\n",
        "    models = {\n",
        "        'SVM': SVC(probability=True, random_state=42),\n",
        "            'KNN': KNeighborsClassifier(),\n",
        "                'Logistic Regression': LogisticRegression(max_iter=1000, random_state=42)\n",
        "                }\n",
        "\n",
        "                # Train models and calculate accuracy\n",
        "                accuracies = {}\n",
        "                for name, model in models.items():\n",
        "                    model.fit(X_train, y_train)\n",
        "                        y_pred = model.predict(X_test)\n",
        "                            acc = accuracy_score(y_test, y_pred)\n",
        "                                accuracies[name] = acc\n",
        "                                    print(f\"{name} Accuracy: {acc:.2f}\")\n",
        "\n",
        "                                    # 4. Bootstrapping\n",
        "                                    bootstrap_results = {}\n",
        "                                    n_iterations = 1000\n",
        "\n",
        "                                    for name, model in models.items():\n",
        "                                        bootstrap_acc = []\n",
        "                                            for _ in range(n_iterations):\n",
        "                                                    # Resample training data with replacement\n",
        "                                                            indices = np.random.choice(len(X_train), len(X_train), replace=True)\n",
        "                                                                    X_resampled = X_train.iloc[indices]\n",
        "                                                                            y_resampled = y_train.iloc[indices]\n",
        "                                                                                    # Train and evaluate on test data\n",
        "                                                                                            model.fit(X_resampled, y_resampled)\n",
        "                                                                                                    y_pred = model.predict(X_test)\n",
        "                                                                                                            bootstrap_acc.append(accuracy_score(y_test, y_pred))\n",
        "                                                                                                                bootstrap_results[name] = bootstrap_acc\n",
        "\n",
        "                                                                                                                # 5. Plot Bootstrapping Results\n",
        "                                                                                                                plt.figure(figsize=(12, 6))\n",
        "                                                                                                                for name, accs in bootstrap_results.items():\n",
        "                                                                                                                    sns.kdeplot(accs, label=name, shade=True)\n",
        "                                                                                                                    plt.title('Bootstrapping Accuracy Distributions')\n",
        "                                                                                                                    plt.xlabel('Accuracy')\n",
        "                                                                                                                    plt.ylabel('Density')\n",
        "                                                                                                                    plt.legend()\n",
        "                                                                                                                    plt.show()"
      ]
    }
  ]
}