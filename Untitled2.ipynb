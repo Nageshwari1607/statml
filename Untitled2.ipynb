{
  "nbformat": 4,
  "nbformat_minor": 0,
  "metadata": {
    "colab": {
      "provenance": [],
      "authorship_tag": "ABX9TyNDkCzAblGVqaHbfAUnlLW+",
      "include_colab_link": true
    },
    "kernelspec": {
      "name": "python3",
      "display_name": "Python 3"
    },
    "language_info": {
      "name": "python"
    }
  },
  "cells": [
    {
      "cell_type": "markdown",
      "metadata": {
        "id": "view-in-github",
        "colab_type": "text"
      },
      "source": [
        "<a href=\"https://colab.research.google.com/github/Nageshwari1607/statml/blob/main/Untitled2.ipynb\" target=\"_parent\"><img src=\"https://colab.research.google.com/assets/colab-badge.svg\" alt=\"Open In Colab\"/></a>"
      ]
    },
    {
      "cell_type": "code",
      "execution_count": 1,
      "metadata": {
        "colab": {
          "base_uri": "https://localhost:8080/"
        },
        "id": "Q51rmMoLIRMd",
        "outputId": "59f59953-7137-45d5-984c-0febfce84b61"
      },
      "outputs": [
        {
          "output_type": "stream",
          "name": "stdout",
          "text": [
            "Mean: 3.75\n",
            "Median: 3.10\n",
            "Variance: 6.66\n",
            "Standard Deviation: 2.58\n",
            "Range: 9.70\n",
            "Interquartile Range (IQR): 1.30\n",
            "Skewness: 1.87\n",
            "Kurtosis: 2.95\n"
          ]
        }
      ],
      "source": [
        "import numpy as np\n",
        "import pandas as pd\n",
        "from scipy import stats\n",
        "import matplotlib.pyplot as plt\n",
        "# Example dataset\n",
        "data = np.array([1.3, 1.5, 2.6, 2.6, 3.2, 3.9, 4.2, 3.7, 3.10, 3.0, 11, 6.7, 1.9])\n",
        "# Mean\n",
        "mean_value = np.mean(data)\n",
        "\n",
        "# Median\n",
        "median_value = np.median(data)\n",
        "\n",
        "# Mode\n",
        "mode_value, mode_count = stats.mode(data)\n",
        "\n",
        "# Variance\n",
        "variance_value = np.var(data, ddof=1)  # Sample variance (ddof=1)\n",
        "\n",
        "# Standard Deviation\n",
        "std_dev_value = np.std(data, ddof=1)  # Sample standard deviation (ddof=1)\n",
        "\n",
        "# Range\n",
        "range_value = np.ptp(data)\n",
        "\n",
        "# Interquartile Range (IQR)\n",
        "q75, q25 = np.percentile(data, [75, 25])\n",
        "iqr_value = q75 - q25\n",
        "\n",
        "# Skewness\n",
        "skewness_value = stats.skew(data)\n",
        "\n",
        "# Kurtosis\n",
        "kurtosis_value = stats.kurtosis(data)\n",
        "\n",
        "# Display the results\n",
        "print(f\"Mean: {mean_value:.2f}\")\n",
        "print(f\"Median: {median_value:.2f}\")\n",
        "print(f\"Variance: {variance_value:.2f}\")\n",
        "print(f\"Standard Deviation: {std_dev_value:.2f}\")\n",
        "print(f\"Range: {range_value:.2f}\")\n",
        "print(f\"Interquartile Range (IQR): {iqr_value:.2f}\")\n",
        "print(f\"Skewness: {skewness_value:.2f}\")\n",
        "print(f\"Kurtosis: {kurtosis_value:.2f}\")"
      ]
    },
    {
      "cell_type": "code",
      "source": [
        "import numpy as np\n",
        "import matplotlib.pyplot as plt\n",
        "\n",
        "# Define the dataset\n",
        "X = np.array([1.3, 1.5, 2.6, 2.6, 3.2, 3.9, 4.2, 3.7, 3.10, 3.0, 11, 6.7, 1.9])\n",
        "\n",
        "# Compute the histogram with density=True to normalize the histogram\n",
        "counts, bin_edges = np.histogram(X, bins=5, density=True)\n",
        "\n",
        "# Plot the histogram\n",
        "plt.hist(X, bins=5, density=True, alpha=0.6, color='g', edgecolor='black')\n",
        "\n",
        "# Add labels and title\n",
        "plt.xlabel('Value')\n",
        "plt.ylabel('Density')\n",
        "plt.title('Histogram with Density for X')\n",
        "plt.show()\n",
        "\n",
        "# Display bin edges and densities\n",
        "print(\"Bin edges:\", bin_edges)\n",
        "print(\"Density values (heights of the bars):\", counts)"
      ],
      "metadata": {
        "colab": {
          "base_uri": "https://localhost:8080/",
          "height": 507
        },
        "id": "VPVEhknhQwth",
        "outputId": "b7643462-f67b-497e-d66f-18971df63168"
      },
      "execution_count": 2,
      "outputs": [
        {
          "output_type": "display_data",
          "data": {
            "text/plain": [
              "<Figure size 640x480 with 1 Axes>"
            ],
            "image/png": "[encoded data removed]"
          },
          "metadata": {}
        },
        {
          "output_type": "stream",
          "name": "stdout",
          "text": [
            "Bin edges: [ 1.3   3.24  5.18  7.12  9.06 11.  ]\n",
            "Density values (heights of the bars): [0.31720856 0.11895321 0.03965107 0.         0.03965107]\n"
          ]
        }
      ]
    },
    {
      "cell_type": "code",
      "source": [
        "import numpy as np\n",
        "import pandas as pd\n",
        "from scipy import stats\n",
        "import matplotlib.pyplot as plt\n",
        "# Example dataset\n",
        "data = np.array([1.3, 1.5, 2.6, 2.6, 3.2, 3.9, 4.2, 3.7, 3.10, 3.0, 11, 6.7, 1.9])\n",
        "# Mean\n",
        "mean_value = np.mean(data)\n",
        "\n",
        "# Median\n",
        "median_value = np.median(data)\n",
        "\n",
        "# Mode\n",
        "mode_value, mode_count = stats.mode(data)\n",
        "\n",
        "# Variance\n",
        "variance_value = np.var(data, ddof=1)  # Sample variance (ddof=1)\n",
        "\n",
        "# Standard Deviation\n",
        "std_dev_value = np.std(data, ddof=1)  # Sample standard deviation (ddof=1)\n",
        "\n",
        "# Range\n",
        "range_value = np.ptp(data)\n",
        "\n",
        "# Interquartile Range (IQR)\n",
        "q75, q25 = np.percentile(data, [75, 25])\n",
        "iqr_value = q75 - q25\n",
        "\n",
        "# Skewness\n",
        "skewness_value = stats.skew(data)\n",
        "\n",
        "# Kurtosis\n",
        "kurtosis_value = stats.kurtosis(data)\n",
        "\n",
        "# Display the results\n",
        "print(f\"Mean: {mean_value:.2f}\")\n",
        "print(f\"Median: {median_value:.2f}\")\n",
        "print(f\"Variance: {variance_value:.2f}\")\n",
        "print(f\"Standard Deviation: {std_dev_value:.2f}\")\n",
        "print(f\"Range: {range_value:.2f}\")\n",
        "print(f\"Interquartile Range (IQR): {iqr_value:.2f}\")\n",
        "print(f\"Skewness: {skewness_value:.2f}\")\n",
        "print(f\"Kurtosis: {kurtosis_value:.2f}\")"
      ],
      "metadata": {
        "colab": {
          "base_uri": "https://localhost:8080/"
        },
        "id": "HkWdPDA4Vq5V",
        "outputId": "e239deac-327e-4fd0-ae15-ce7663b19bf8"
      },
      "execution_count": 3,
      "outputs": [
        {
          "output_type": "stream",
          "name": "stdout",
          "text": [
            "Mean: 3.75\n",
            "Median: 3.10\n",
            "Variance: 6.66\n",
            "Standard Deviation: 2.58\n",
            "Range: 9.70\n",
            "Interquartile Range (IQR): 1.30\n",
            "Skewness: 1.87\n",
            "Kurtosis: 2.95\n"
          ]
        }
      ]
    },
    {
      "cell_type": "code",
      "source": [
        "import numpy as np\n",
        "import matplotlib.pyplot as plt\n",
        "from scipy import stats\n",
        "import pandas as pd\n",
        "\n",
        "# Question 1: Compute the density of the data using a histogram with 5 bins\n",
        "X = [1.3, 1.5, 2.6, 2.6, 3.2, 3.9, 4.2, 3.7, 3.10, 3.0, 11, 6.7, 1.9]\n",
        "\n",
        "# Plot histogram with 5 bins\n",
        "plt.figure(figsize=(8, 6))\n",
        "plt.hist(X, bins=5, density=True, alpha=0.6, color='g')\n",
        "plt.title('Density of Dataset X with 5 Bins')\n",
        "plt.xlabel('Value')\n",
        "plt.ylabel('Density')\n",
        "plt.show()\n"
      ],
      "metadata": {
        "colab": {
          "base_uri": "https://localhost:8080/",
          "height": 564
        },
        "id": "xduc7OlwXh1M",
        "outputId": "da2afdb4-f6a1-4196-c777-8c4d083bf02a"
      },
      "execution_count": 4,
      "outputs": [
        {
          "output_type": "display_data",
          "data": {
            "text/plain": [
              "<Figure size 800x600 with 1 Axes>"
            ],
            "image/png": "[encoded data removed]"
          },
          "metadata": {}
        }
      ]
    },
    {
      "cell_type": "code",
      "source": [
        "#Question 2: Statistical measures for x and y\n",
        "x = np.array([12, 13, 56, 23, 41, 28, 51])\n",
        "y = np.array([51, 63, 37, 88, 33, 72, 81])\n",
        "\n",
        "# Function to compute all statistical measures\n",
        "def compute_statistics(data):\n",
        "    mode_result = stats.mode(data)\n",
        "    statistics = {\n",
        "        'Mean': np.mean(data),\n",
        "        'Median': np.median(data),\n",
        "        'Variance': np.var(data, ddof=1),\n",
        "        'Standard Deviation': np.std(data, ddof=1),\n",
        "        'Range': np.ptp(data),\n",
        "        'Interquartile Range (IQR)': np.percentile(data, 75) - np.percentile(data, 25),\n",
        "        'Skewness': stats.skew(data),\n",
        "        'Kurtosis': stats.kurtosis(data)\n",
        "    }\n",
        "    return statistics\n",
        "\n",
        "x_stats = compute_statistics(x)\n",
        "y_stats = compute_statistics(y)\n",
        "\n",
        "# Print the results\n",
        "print(\"Question 2: Statistics for x\")\n",
        "for key, value in x_stats.items():\n",
        "    print(f\"{key}: {value}\")\n"
      ],
      "metadata": {
        "colab": {
          "base_uri": "https://localhost:8080/"
        },
        "id": "wAvs-krgYXFr",
        "outputId": "db43cf2b-d923-469f-ffb5-7d85369731f7"
      },
      "execution_count": 5,
      "outputs": [
        {
          "output_type": "stream",
          "name": "stdout",
          "text": [
            "Question 2: Statistics for x\n",
            "Mean: 32.0\n",
            "Median: 28.0\n",
            "Variance: 312.6666666666667\n",
            "Standard Deviation: 17.682382946499793\n",
            "Range: 44\n",
            "Interquartile Range (IQR): 28.0\n",
            "Skewness: 0.18755223867066048\n",
            "Kurtosis: -1.47684021258314\n"
          ]
        }
      ]
    },
    {
      "cell_type": "code",
      "source": [
        "print(\"\\nQuestion 2: Statistics for y\")\n",
        "for key, value in y_stats.items():\n",
        "    print(f\"{key}: {value}\")\n",
        "\n",
        "# Question 3: Calculate the statistics for each feature (x and y)\n",
        "data = {'x': x, 'y': y}\n",
        "df = pd.DataFrame(data)\n",
        "\n",
        "# Describe provides a summary that includes some of the required statistics\n",
        "summary = df.describe()\n",
        "\n",
        "# Manually adding mode, skewness, and kurtosis to the summary\n",
        "summary.loc['mode'] = df.mode().iloc[0]\n",
        "summary.loc['skewness'] = df.apply(stats.skew)\n",
        "summary.loc['kurtosis'] = df.apply(stats.kurtosis)\n",
        "\n",
        "# Adding IQR to the summary\n",
        "summary.loc['IQR'] = df.apply(lambda x: np.percentile(x, 75) - np.percentile(x, 25))\n",
        "\n",
        "# Print the summary\n",
        "print(\"\\nQuestion 3: Summary Statistics for x and y\")\n",
        "print(summary)"
      ],
      "metadata": {
        "colab": {
          "base_uri": "https://localhost:8080/"
        },
        "id": "lkgATaxCYjlB",
        "outputId": "7aafd452-d209-4fb6-bf5f-58d4e1ea3f17"
      },
      "execution_count": 6,
      "outputs": [
        {
          "output_type": "stream",
          "name": "stdout",
          "text": [
            "\n",
            "Question 2: Statistics for y\n",
            "Mean: 60.714285714285715\n",
            "Median: 63.0\n",
            "Variance: 452.23809523809524\n",
            "Standard Deviation: 21.265890417240826\n",
            "Range: 55\n",
            "Interquartile Range (IQR): 32.5\n",
            "Skewness: -0.10160487226954186\n",
            "Kurtosis: -1.4265295827972655\n",
            "\n",
            "Question 3: Summary Statistics for x and y\n",
            "                  x          y\n",
            "count      7.000000   7.000000\n",
            "mean      32.000000  60.714286\n",
            "std       17.682383  21.265890\n",
            "min       12.000000  33.000000\n",
            "25%       18.000000  44.000000\n",
            "50%       28.000000  63.000000\n",
            "75%       46.000000  76.500000\n",
            "max       56.000000  88.000000\n",
            "mode      12.000000  33.000000\n",
            "skewness   0.187552  -0.101605\n",
            "kurtosis  -1.476840  -1.426530\n",
            "IQR       28.000000  32.500000\n"
          ]
        }
      ]
    }
  ]
}